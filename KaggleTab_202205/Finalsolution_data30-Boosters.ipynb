{
 "cells": [
  {
   "cell_type": "markdown",
   "metadata": {},
   "source": [
    "<font color=\"red\" size=4>Kaggle competition **Tabular Playground Series - May 2022** final solution kernel</font>\n",
    "- May 2022 PLayground competition was binary classificationbased on tabular data, \n",
    "- My personal goal was to evaluate two implementations of neutal network dedicated to solve tabular data problems\n",
    "> - the first TabNet implementation was based on Tensorflow framework\n",
    "> - the second - Torch framework\n",
    "- I was interested in several aspects of comparison, but especially:\n",
    "> - the results in comparison with my favourite tools used for this kind of problem \n",
    "<br>(one of gradient boosting solutions (XGBoost/LightGBM/CatBoost))\n",
    "> - the comparison working speed of Tensorflow and Torch implmentation\n",
    "\n",
    "Theere were train data composed of 900 000 records and test data (700 000).\n",
    "The features were:\n",
    "- in some part numerical (float and continuous), \n",
    "- in come - categorical (with 2 to 16 levels) \n",
    "- one more complex feature, 30 of them all over.\n",
    "\n",
    "This script contains the final solution, composed of traiing and prediction using:\n",
    "1. Tensorflow TabNet implementation\n",
    "2. PyTorch TabNet implementation\n",
    "3. XGB, LightGBM and CatBoost implementation\n",
    "\n",
    "The final conclusion is:\n",
    "- **On overall, any of tested TabNet implementation performs better than boosters**\n",
    "- **The price of this performance improvement one must accept to pay**  is much longer time of neural based solution training \n",
    "\n",
    "The final score I achieved during the competition was 0.99810 in comparison to 0.99833 winning value"
   ]
  },
  {
   "cell_type": "code",
   "execution_count": 1,
   "metadata": {},
   "outputs": [
    {
     "name": "stderr",
     "output_type": "stream",
     "text": [
      "2022-06-03 00:47:54.684386: I tensorflow/stream_executor/platform/default/dso_loader.cc:49] Successfully opened dynamic library libcudart.so.11.0\n"
     ]
    },
    {
     "name": "stdout",
     "output_type": "stream",
     "text": [
      "pandas: 1.4.2\n",
      "sklearn: 1.0.2\n",
      "xgboost: 1.6.0\n",
      "catboost: 1.0.5\n",
      "lightgbm: 3.3.2\n",
      "tensorflow: 2.4.0\n",
      "torch: 1.10.1+cu102\n"
     ]
    }
   ],
   "source": [
    "import os\n",
    "# os.environ['CUDA_VISIBLE_DEVICES']=\"1\"\n",
    "import numpy as np\n",
    "import pandas as pd\n",
    "import itertools\n",
    "import warnings\n",
    "import lightgbm\n",
    "import sklearn\n",
    "import xgboost\n",
    "import catboost\n",
    "import matplotlib.ticker as ticker\n",
    "import datetime as dt\n",
    "from tabulate import tabulate\n",
    "from tqdm import tqdm\n",
    "from sklearn.metrics import roc_auc_score\n",
    "from lightgbm import LGBMClassifier\n",
    "from sklearn.model_selection import train_test_split\n",
    "from xgboost import XGBClassifier\n",
    "from catboost import CatBoostClassifier\n",
    "import tensorflow as tf\n",
    "from tabnet.models.classify import TabNetClassifier as TFTabnetClassifier\n",
    "from tensorflow.keras.callbacks import EarlyStopping\n",
    "from tabnet.schedules import DecayWithWarmupSchedule\n",
    "from tensorflow.keras.callbacks import Callback\n",
    "from sklearn.preprocessing import StandardScaler\n",
    "from tensorflow.keras.callbacks import ModelCheckpoint\n",
    "from pytorch_tabnet.tab_model import TabNetClassifier as TorchTabnetClassifier\n",
    "import torch\n",
    "import pickle\n",
    "import seaborn as sns\n",
    "import matplotlib.pyplot as plt\n",
    "from sklearn.model_selection import StratifiedKFold\n",
    "from sklearn.ensemble import ExtraTreesClassifier, GradientBoostingClassifier, HistGradientBoostingClassifier\n",
    "\n",
    "for m in [pd,sklearn,xgboost, catboost, lightgbm, tf, torch]:\n",
    "    print(f\"{m.__name__}: {m.__version__}\")\n",
    "    \n",
    "pd.options.display.max_columns=0\n",
    "warnings.filterwarnings('ignore')"
   ]
  },
  {
   "cell_type": "markdown",
   "metadata": {},
   "source": [
    "# Data preparation"
   ]
  },
  {
   "cell_type": "markdown",
   "metadata": {},
   "source": [
    "## Loading"
   ]
  },
  {
   "cell_type": "code",
   "execution_count": 2,
   "metadata": {},
   "outputs": [],
   "source": [
    "# Oryginal Kaggle csv converted to pickle to save space\n",
    "# visit https://www.kaggle.com/competitions/tabular-playground-series-may-2022/data\n",
    "\n",
    "SRCTRAIN=\"/mnt/workdata/_WORK_/Kaggle_202005_Tab/Data/oryginal/pkl/train.pkl\"\n",
    "SRCTEST=\"/mnt/workdata/_WORK_/Kaggle_202005_Tab/Data/oryginal/pkl/test.pkl\"\n",
    "\n",
    "train_df = pd.read_pickle(SRCTRAIN)\n",
    "test_df = pd.read_pickle(SRCTEST)\n",
    "\n",
    "df=train_df.append(test_df)\n",
    "target=df['target']\n",
    "df=df.iloc[:,:-1]"
   ]
  },
  {
   "cell_type": "code",
   "execution_count": 3,
   "metadata": {},
   "outputs": [
    {
     "data": {
      "text/html": [
       "<div>\n",
       "<style scoped>\n",
       "    .dataframe tbody tr th:only-of-type {\n",
       "        vertical-align: middle;\n",
       "    }\n",
       "\n",
       "    .dataframe tbody tr th {\n",
       "        vertical-align: top;\n",
       "    }\n",
       "\n",
       "    .dataframe thead th {\n",
       "        text-align: right;\n",
       "    }\n",
       "</style>\n",
       "<table border=\"1\" class=\"dataframe\">\n",
       "  <thead>\n",
       "    <tr style=\"text-align: right;\">\n",
       "      <th></th>\n",
       "      <th>f_00</th>\n",
       "      <th>f_01</th>\n",
       "      <th>f_02</th>\n",
       "      <th>f_03</th>\n",
       "      <th>f_04</th>\n",
       "      <th>f_05</th>\n",
       "      <th>f_06</th>\n",
       "      <th>f_07</th>\n",
       "      <th>f_08</th>\n",
       "      <th>f_09</th>\n",
       "      <th>f_10</th>\n",
       "      <th>f_11</th>\n",
       "      <th>f_12</th>\n",
       "      <th>f_13</th>\n",
       "      <th>f_14</th>\n",
       "      <th>f_15</th>\n",
       "      <th>f_16</th>\n",
       "      <th>f_17</th>\n",
       "      <th>f_18</th>\n",
       "      <th>f_19</th>\n",
       "      <th>f_20</th>\n",
       "      <th>f_21</th>\n",
       "      <th>f_22</th>\n",
       "      <th>f_23</th>\n",
       "      <th>f_24</th>\n",
       "      <th>f_25</th>\n",
       "      <th>f_26</th>\n",
       "      <th>f_27</th>\n",
       "      <th>f_28</th>\n",
       "      <th>f_29</th>\n",
       "      <th>f_30</th>\n",
       "      <th>target</th>\n",
       "    </tr>\n",
       "    <tr>\n",
       "      <th>id</th>\n",
       "      <th></th>\n",
       "      <th></th>\n",
       "      <th></th>\n",
       "      <th></th>\n",
       "      <th></th>\n",
       "      <th></th>\n",
       "      <th></th>\n",
       "      <th></th>\n",
       "      <th></th>\n",
       "      <th></th>\n",
       "      <th></th>\n",
       "      <th></th>\n",
       "      <th></th>\n",
       "      <th></th>\n",
       "      <th></th>\n",
       "      <th></th>\n",
       "      <th></th>\n",
       "      <th></th>\n",
       "      <th></th>\n",
       "      <th></th>\n",
       "      <th></th>\n",
       "      <th></th>\n",
       "      <th></th>\n",
       "      <th></th>\n",
       "      <th></th>\n",
       "      <th></th>\n",
       "      <th></th>\n",
       "      <th></th>\n",
       "      <th></th>\n",
       "      <th></th>\n",
       "      <th></th>\n",
       "      <th></th>\n",
       "    </tr>\n",
       "  </thead>\n",
       "  <tbody>\n",
       "    <tr>\n",
       "      <th>0</th>\n",
       "      <td>-1.373246</td>\n",
       "      <td>0.238887</td>\n",
       "      <td>-0.243376</td>\n",
       "      <td>0.567405</td>\n",
       "      <td>-0.647715</td>\n",
       "      <td>0.839326</td>\n",
       "      <td>0.113133</td>\n",
       "      <td>1</td>\n",
       "      <td>5</td>\n",
       "      <td>1</td>\n",
       "      <td>3</td>\n",
       "      <td>3</td>\n",
       "      <td>3</td>\n",
       "      <td>1</td>\n",
       "      <td>6</td>\n",
       "      <td>1</td>\n",
       "      <td>0</td>\n",
       "      <td>7</td>\n",
       "      <td>4</td>\n",
       "      <td>0.298218</td>\n",
       "      <td>-0.919717</td>\n",
       "      <td>3.058541</td>\n",
       "      <td>-2.540739</td>\n",
       "      <td>0.766952</td>\n",
       "      <td>-2.730628</td>\n",
       "      <td>-0.208177</td>\n",
       "      <td>1.363402</td>\n",
       "      <td>ABABDADBAB</td>\n",
       "      <td>67.609153</td>\n",
       "      <td>0</td>\n",
       "      <td>0</td>\n",
       "      <td>0</td>\n",
       "    </tr>\n",
       "    <tr>\n",
       "      <th>1</th>\n",
       "      <td>1.697021</td>\n",
       "      <td>-1.710322</td>\n",
       "      <td>-2.230332</td>\n",
       "      <td>-0.545661</td>\n",
       "      <td>1.113173</td>\n",
       "      <td>-1.552175</td>\n",
       "      <td>0.447825</td>\n",
       "      <td>1</td>\n",
       "      <td>3</td>\n",
       "      <td>4</td>\n",
       "      <td>0</td>\n",
       "      <td>2</td>\n",
       "      <td>3</td>\n",
       "      <td>0</td>\n",
       "      <td>1</td>\n",
       "      <td>0</td>\n",
       "      <td>4</td>\n",
       "      <td>6</td>\n",
       "      <td>0</td>\n",
       "      <td>-3.147667</td>\n",
       "      <td>-1.075434</td>\n",
       "      <td>2.179050</td>\n",
       "      <td>2.278315</td>\n",
       "      <td>-0.633658</td>\n",
       "      <td>-1.217077</td>\n",
       "      <td>-3.782194</td>\n",
       "      <td>-0.058316</td>\n",
       "      <td>ACACCADCEB</td>\n",
       "      <td>377.096415</td>\n",
       "      <td>0</td>\n",
       "      <td>0</td>\n",
       "      <td>1</td>\n",
       "    </tr>\n",
       "    <tr>\n",
       "      <th>2</th>\n",
       "      <td>1.681726</td>\n",
       "      <td>0.616746</td>\n",
       "      <td>-1.027689</td>\n",
       "      <td>0.810492</td>\n",
       "      <td>-0.609086</td>\n",
       "      <td>0.113965</td>\n",
       "      <td>-0.708660</td>\n",
       "      <td>1</td>\n",
       "      <td>0</td>\n",
       "      <td>2</td>\n",
       "      <td>6</td>\n",
       "      <td>6</td>\n",
       "      <td>4</td>\n",
       "      <td>3</td>\n",
       "      <td>1</td>\n",
       "      <td>2</td>\n",
       "      <td>2</td>\n",
       "      <td>1</td>\n",
       "      <td>4</td>\n",
       "      <td>2.820733</td>\n",
       "      <td>-3.485342</td>\n",
       "      <td>-0.784235</td>\n",
       "      <td>-1.385775</td>\n",
       "      <td>-0.520558</td>\n",
       "      <td>-0.009121</td>\n",
       "      <td>2.788536</td>\n",
       "      <td>-3.703488</td>\n",
       "      <td>AAAEABCKAD</td>\n",
       "      <td>-195.599702</td>\n",
       "      <td>0</td>\n",
       "      <td>2</td>\n",
       "      <td>1</td>\n",
       "    </tr>\n",
       "    <tr>\n",
       "      <th>3</th>\n",
       "      <td>-0.118172</td>\n",
       "      <td>-0.587835</td>\n",
       "      <td>-0.804638</td>\n",
       "      <td>2.086822</td>\n",
       "      <td>0.371005</td>\n",
       "      <td>-0.128831</td>\n",
       "      <td>-0.282575</td>\n",
       "      <td>3</td>\n",
       "      <td>2</td>\n",
       "      <td>1</td>\n",
       "      <td>0</td>\n",
       "      <td>1</td>\n",
       "      <td>6</td>\n",
       "      <td>4</td>\n",
       "      <td>2</td>\n",
       "      <td>3</td>\n",
       "      <td>3</td>\n",
       "      <td>0</td>\n",
       "      <td>3</td>\n",
       "      <td>1.081084</td>\n",
       "      <td>-2.100177</td>\n",
       "      <td>-2.343819</td>\n",
       "      <td>0.572594</td>\n",
       "      <td>-1.653213</td>\n",
       "      <td>1.686035</td>\n",
       "      <td>-2.533098</td>\n",
       "      <td>-0.608601</td>\n",
       "      <td>BDBBAACBCB</td>\n",
       "      <td>210.826205</td>\n",
       "      <td>0</td>\n",
       "      <td>0</td>\n",
       "      <td>1</td>\n",
       "    </tr>\n",
       "    <tr>\n",
       "      <th>4</th>\n",
       "      <td>1.148481</td>\n",
       "      <td>-0.176567</td>\n",
       "      <td>-0.664871</td>\n",
       "      <td>-1.101343</td>\n",
       "      <td>0.467875</td>\n",
       "      <td>0.500117</td>\n",
       "      <td>0.407515</td>\n",
       "      <td>3</td>\n",
       "      <td>3</td>\n",
       "      <td>0</td>\n",
       "      <td>4</td>\n",
       "      <td>3</td>\n",
       "      <td>0</td>\n",
       "      <td>6</td>\n",
       "      <td>0</td>\n",
       "      <td>3</td>\n",
       "      <td>3</td>\n",
       "      <td>1</td>\n",
       "      <td>0</td>\n",
       "      <td>-0.126179</td>\n",
       "      <td>0.605033</td>\n",
       "      <td>1.133665</td>\n",
       "      <td>-3.912929</td>\n",
       "      <td>-1.430366</td>\n",
       "      <td>2.127649</td>\n",
       "      <td>-3.306784</td>\n",
       "      <td>4.371371</td>\n",
       "      <td>BDBCBBCHFE</td>\n",
       "      <td>-217.211798</td>\n",
       "      <td>0</td>\n",
       "      <td>1</td>\n",
       "      <td>1</td>\n",
       "    </tr>\n",
       "  </tbody>\n",
       "</table>\n",
       "</div>"
      ],
      "text/plain": [
       "        f_00      f_01      f_02      f_03  ...        f_28  f_29  f_30  target\n",
       "id                                          ...                                \n",
       "0  -1.373246  0.238887 -0.243376  0.567405  ...   67.609153     0     0       0\n",
       "1   1.697021 -1.710322 -2.230332 -0.545661  ...  377.096415     0     0       1\n",
       "2   1.681726  0.616746 -1.027689  0.810492  ... -195.599702     0     2       1\n",
       "3  -0.118172 -0.587835 -0.804638  2.086822  ...  210.826205     0     0       1\n",
       "4   1.148481 -0.176567 -0.664871 -1.101343  ... -217.211798     0     1       1\n",
       "\n",
       "[5 rows x 32 columns]"
      ]
     },
     "execution_count": 3,
     "metadata": {},
     "output_type": "execute_result"
    }
   ],
   "source": [
    "train_df.head()\n"
   ]
  },
  {
   "cell_type": "markdown",
   "metadata": {},
   "source": [
    "## F27 decomposition"
   ]
  },
  {
   "cell_type": "markdown",
   "metadata": {},
   "source": [
    "### Pattern distance"
   ]
  },
  {
   "cell_type": "code",
   "execution_count": 4,
   "metadata": {},
   "outputs": [
    {
     "data": {
      "text/html": [
       "<div>\n",
       "<style scoped>\n",
       "    .dataframe tbody tr th:only-of-type {\n",
       "        vertical-align: middle;\n",
       "    }\n",
       "\n",
       "    .dataframe tbody tr th {\n",
       "        vertical-align: top;\n",
       "    }\n",
       "\n",
       "    .dataframe thead th {\n",
       "        text-align: right;\n",
       "    }\n",
       "</style>\n",
       "<table border=\"1\" class=\"dataframe\">\n",
       "  <thead>\n",
       "    <tr style=\"text-align: right;\">\n",
       "      <th></th>\n",
       "      <th>f_27_1</th>\n",
       "      <th>f_27_2</th>\n",
       "      <th>f_27_3</th>\n",
       "      <th>f_27_4</th>\n",
       "      <th>f_27_5</th>\n",
       "      <th>f_27_6</th>\n",
       "      <th>f_27_7</th>\n",
       "      <th>f_27_8</th>\n",
       "      <th>f_27_9</th>\n",
       "      <th>f_27_10</th>\n",
       "    </tr>\n",
       "  </thead>\n",
       "  <tbody>\n",
       "    <tr>\n",
       "      <th>0</th>\n",
       "      <td>25</td>\n",
       "      <td>24</td>\n",
       "      <td>25</td>\n",
       "      <td>24</td>\n",
       "      <td>22</td>\n",
       "      <td>25</td>\n",
       "      <td>22</td>\n",
       "      <td>24</td>\n",
       "      <td>25</td>\n",
       "      <td>24</td>\n",
       "    </tr>\n",
       "    <tr>\n",
       "      <th>1</th>\n",
       "      <td>25</td>\n",
       "      <td>23</td>\n",
       "      <td>25</td>\n",
       "      <td>23</td>\n",
       "      <td>23</td>\n",
       "      <td>25</td>\n",
       "      <td>22</td>\n",
       "      <td>23</td>\n",
       "      <td>21</td>\n",
       "      <td>24</td>\n",
       "    </tr>\n",
       "    <tr>\n",
       "      <th>2</th>\n",
       "      <td>25</td>\n",
       "      <td>25</td>\n",
       "      <td>25</td>\n",
       "      <td>21</td>\n",
       "      <td>25</td>\n",
       "      <td>24</td>\n",
       "      <td>23</td>\n",
       "      <td>15</td>\n",
       "      <td>25</td>\n",
       "      <td>22</td>\n",
       "    </tr>\n",
       "    <tr>\n",
       "      <th>3</th>\n",
       "      <td>24</td>\n",
       "      <td>22</td>\n",
       "      <td>24</td>\n",
       "      <td>24</td>\n",
       "      <td>25</td>\n",
       "      <td>25</td>\n",
       "      <td>23</td>\n",
       "      <td>24</td>\n",
       "      <td>23</td>\n",
       "      <td>24</td>\n",
       "    </tr>\n",
       "    <tr>\n",
       "      <th>4</th>\n",
       "      <td>24</td>\n",
       "      <td>22</td>\n",
       "      <td>24</td>\n",
       "      <td>23</td>\n",
       "      <td>24</td>\n",
       "      <td>24</td>\n",
       "      <td>23</td>\n",
       "      <td>18</td>\n",
       "      <td>20</td>\n",
       "      <td>21</td>\n",
       "    </tr>\n",
       "  </tbody>\n",
       "</table>\n",
       "</div>"
      ],
      "text/plain": [
       "   f_27_1  f_27_2  f_27_3  f_27_4  ...  f_27_7  f_27_8  f_27_9  f_27_10\n",
       "0      25      24      25      24  ...      22      24      25       24\n",
       "1      25      23      25      23  ...      22      23      21       24\n",
       "2      25      25      25      21  ...      23      15      25       22\n",
       "3      24      22      24      24  ...      23      24      23       24\n",
       "4      24      22      24      23  ...      23      18      20       21\n",
       "\n",
       "[5 rows x 10 columns]"
      ]
     },
     "execution_count": 4,
     "metadata": {},
     "output_type": "execute_result"
    }
   ],
   "source": [
    "z_distance_data_cols = [f\"f_27_{i+1}\" for i in range(10)]\n",
    "z_distance_data = pd.DataFrame(df['f_27'].apply(list).tolist(), columns=z_distance_data_cols)\n",
    "for feature in z_distance_data_cols:\n",
    "    z_distance_data[feature] = z_distance_data[feature].apply(lambda x: ord('Z') - ord(x))\n",
    "z_distance_data.head()"
   ]
  },
  {
   "cell_type": "code",
   "execution_count": 5,
   "metadata": {},
   "outputs": [],
   "source": [
    "df=df.join(z_distance_data)"
   ]
  },
  {
   "cell_type": "markdown",
   "metadata": {},
   "source": [
    "## Other features"
   ]
  },
  {
   "cell_type": "code",
   "execution_count": 6,
   "metadata": {},
   "outputs": [],
   "source": [
    "df['f_27_uc'] = df['f_27'].apply(lambda x : len(set(x)))\n"
   ]
  },
  {
   "cell_type": "markdown",
   "metadata": {},
   "source": [
    "## Interaction features"
   ]
  },
  {
   "cell_type": "code",
   "execution_count": 7,
   "metadata": {},
   "outputs": [],
   "source": [
    "df[\"f_02_f_21_sum_hist\"] = df.apply(lambda r: 1 if (r['f_02']+r['f_21'])<-5.3 else 2 if (r['f_02']+r['f_21'])>5.2 else 0, axis=1)\n",
    "df[\"f_05_f_22_sum_hist\"] = df.apply(lambda r: 1 if (r['f_05']+r['f_22'])<-5.4 else 2 if (r['f_05']+r['f_22'])>5.1 else 0, axis=1)\n",
    "df[\"f_00_01_26\"] = df.apply(lambda r: 2 if (r['f_00']+r['f_01']+r[\"f_26\"])<-5 else 1 if (r['f_00']+r['f_01']+r[\"f_26\"])>5 else 0 , axis=1)"
   ]
  },
  {
   "cell_type": "markdown",
   "metadata": {},
   "source": [
    "## Final dataset"
   ]
  },
  {
   "cell_type": "code",
   "execution_count": 8,
   "metadata": {},
   "outputs": [],
   "source": [
    "df=df.join(target)\n",
    "del df['f_27']"
   ]
  },
  {
   "cell_type": "code",
   "execution_count": 9,
   "metadata": {},
   "outputs": [
    {
     "name": "stdout",
     "output_type": "stream",
     "text": [
      "(1600000, 45)\n"
     ]
    },
    {
     "data": {
      "text/html": [
       "<div>\n",
       "<style scoped>\n",
       "    .dataframe tbody tr th:only-of-type {\n",
       "        vertical-align: middle;\n",
       "    }\n",
       "\n",
       "    .dataframe tbody tr th {\n",
       "        vertical-align: top;\n",
       "    }\n",
       "\n",
       "    .dataframe thead th {\n",
       "        text-align: right;\n",
       "    }\n",
       "</style>\n",
       "<table border=\"1\" class=\"dataframe\">\n",
       "  <thead>\n",
       "    <tr style=\"text-align: right;\">\n",
       "      <th></th>\n",
       "      <th>f_00</th>\n",
       "      <th>f_01</th>\n",
       "      <th>f_02</th>\n",
       "      <th>f_03</th>\n",
       "      <th>f_04</th>\n",
       "      <th>f_05</th>\n",
       "      <th>f_06</th>\n",
       "      <th>f_07</th>\n",
       "      <th>f_08</th>\n",
       "      <th>f_09</th>\n",
       "      <th>f_10</th>\n",
       "      <th>f_11</th>\n",
       "      <th>f_12</th>\n",
       "      <th>f_13</th>\n",
       "      <th>f_14</th>\n",
       "      <th>f_15</th>\n",
       "      <th>f_16</th>\n",
       "      <th>f_17</th>\n",
       "      <th>f_18</th>\n",
       "      <th>f_19</th>\n",
       "      <th>f_20</th>\n",
       "      <th>f_21</th>\n",
       "      <th>f_22</th>\n",
       "      <th>f_23</th>\n",
       "      <th>f_24</th>\n",
       "      <th>f_25</th>\n",
       "      <th>f_26</th>\n",
       "      <th>f_28</th>\n",
       "      <th>f_29</th>\n",
       "      <th>f_30</th>\n",
       "      <th>f_27_1</th>\n",
       "      <th>f_27_2</th>\n",
       "      <th>f_27_3</th>\n",
       "      <th>f_27_4</th>\n",
       "      <th>f_27_5</th>\n",
       "      <th>f_27_6</th>\n",
       "      <th>f_27_7</th>\n",
       "      <th>f_27_8</th>\n",
       "      <th>f_27_9</th>\n",
       "      <th>f_27_10</th>\n",
       "      <th>f_27_uc</th>\n",
       "      <th>f_02_f_21_sum_hist</th>\n",
       "      <th>f_05_f_22_sum_hist</th>\n",
       "      <th>f_00_01_26</th>\n",
       "      <th>target</th>\n",
       "    </tr>\n",
       "    <tr>\n",
       "      <th>id</th>\n",
       "      <th></th>\n",
       "      <th></th>\n",
       "      <th></th>\n",
       "      <th></th>\n",
       "      <th></th>\n",
       "      <th></th>\n",
       "      <th></th>\n",
       "      <th></th>\n",
       "      <th></th>\n",
       "      <th></th>\n",
       "      <th></th>\n",
       "      <th></th>\n",
       "      <th></th>\n",
       "      <th></th>\n",
       "      <th></th>\n",
       "      <th></th>\n",
       "      <th></th>\n",
       "      <th></th>\n",
       "      <th></th>\n",
       "      <th></th>\n",
       "      <th></th>\n",
       "      <th></th>\n",
       "      <th></th>\n",
       "      <th></th>\n",
       "      <th></th>\n",
       "      <th></th>\n",
       "      <th></th>\n",
       "      <th></th>\n",
       "      <th></th>\n",
       "      <th></th>\n",
       "      <th></th>\n",
       "      <th></th>\n",
       "      <th></th>\n",
       "      <th></th>\n",
       "      <th></th>\n",
       "      <th></th>\n",
       "      <th></th>\n",
       "      <th></th>\n",
       "      <th></th>\n",
       "      <th></th>\n",
       "      <th></th>\n",
       "      <th></th>\n",
       "      <th></th>\n",
       "      <th></th>\n",
       "      <th></th>\n",
       "    </tr>\n",
       "  </thead>\n",
       "  <tbody>\n",
       "    <tr>\n",
       "      <th>0</th>\n",
       "      <td>-1.373246</td>\n",
       "      <td>0.238887</td>\n",
       "      <td>-0.243376</td>\n",
       "      <td>0.567405</td>\n",
       "      <td>-0.647715</td>\n",
       "      <td>0.839326</td>\n",
       "      <td>0.113133</td>\n",
       "      <td>1</td>\n",
       "      <td>5</td>\n",
       "      <td>1</td>\n",
       "      <td>3</td>\n",
       "      <td>3</td>\n",
       "      <td>3</td>\n",
       "      <td>1</td>\n",
       "      <td>6</td>\n",
       "      <td>1</td>\n",
       "      <td>0</td>\n",
       "      <td>7</td>\n",
       "      <td>4</td>\n",
       "      <td>0.298218</td>\n",
       "      <td>-0.919717</td>\n",
       "      <td>3.058541</td>\n",
       "      <td>-2.540739</td>\n",
       "      <td>0.766952</td>\n",
       "      <td>-2.730628</td>\n",
       "      <td>-0.208177</td>\n",
       "      <td>1.363402</td>\n",
       "      <td>67.609153</td>\n",
       "      <td>0</td>\n",
       "      <td>0</td>\n",
       "      <td>25</td>\n",
       "      <td>24</td>\n",
       "      <td>25</td>\n",
       "      <td>24</td>\n",
       "      <td>22</td>\n",
       "      <td>25</td>\n",
       "      <td>22</td>\n",
       "      <td>24</td>\n",
       "      <td>25</td>\n",
       "      <td>24</td>\n",
       "      <td>3</td>\n",
       "      <td>0</td>\n",
       "      <td>0</td>\n",
       "      <td>0</td>\n",
       "      <td>0.0</td>\n",
       "    </tr>\n",
       "    <tr>\n",
       "      <th>1</th>\n",
       "      <td>1.697021</td>\n",
       "      <td>-1.710322</td>\n",
       "      <td>-2.230332</td>\n",
       "      <td>-0.545661</td>\n",
       "      <td>1.113173</td>\n",
       "      <td>-1.552175</td>\n",
       "      <td>0.447825</td>\n",
       "      <td>1</td>\n",
       "      <td>3</td>\n",
       "      <td>4</td>\n",
       "      <td>0</td>\n",
       "      <td>2</td>\n",
       "      <td>3</td>\n",
       "      <td>0</td>\n",
       "      <td>1</td>\n",
       "      <td>0</td>\n",
       "      <td>4</td>\n",
       "      <td>6</td>\n",
       "      <td>0</td>\n",
       "      <td>-3.147667</td>\n",
       "      <td>-1.075434</td>\n",
       "      <td>2.179050</td>\n",
       "      <td>2.278315</td>\n",
       "      <td>-0.633658</td>\n",
       "      <td>-1.217077</td>\n",
       "      <td>-3.782194</td>\n",
       "      <td>-0.058316</td>\n",
       "      <td>377.096415</td>\n",
       "      <td>0</td>\n",
       "      <td>0</td>\n",
       "      <td>25</td>\n",
       "      <td>23</td>\n",
       "      <td>25</td>\n",
       "      <td>23</td>\n",
       "      <td>23</td>\n",
       "      <td>25</td>\n",
       "      <td>22</td>\n",
       "      <td>23</td>\n",
       "      <td>21</td>\n",
       "      <td>24</td>\n",
       "      <td>5</td>\n",
       "      <td>0</td>\n",
       "      <td>0</td>\n",
       "      <td>0</td>\n",
       "      <td>1.0</td>\n",
       "    </tr>\n",
       "    <tr>\n",
       "      <th>2</th>\n",
       "      <td>1.681726</td>\n",
       "      <td>0.616746</td>\n",
       "      <td>-1.027689</td>\n",
       "      <td>0.810492</td>\n",
       "      <td>-0.609086</td>\n",
       "      <td>0.113965</td>\n",
       "      <td>-0.708660</td>\n",
       "      <td>1</td>\n",
       "      <td>0</td>\n",
       "      <td>2</td>\n",
       "      <td>6</td>\n",
       "      <td>6</td>\n",
       "      <td>4</td>\n",
       "      <td>3</td>\n",
       "      <td>1</td>\n",
       "      <td>2</td>\n",
       "      <td>2</td>\n",
       "      <td>1</td>\n",
       "      <td>4</td>\n",
       "      <td>2.820733</td>\n",
       "      <td>-3.485342</td>\n",
       "      <td>-0.784235</td>\n",
       "      <td>-1.385775</td>\n",
       "      <td>-0.520558</td>\n",
       "      <td>-0.009121</td>\n",
       "      <td>2.788536</td>\n",
       "      <td>-3.703488</td>\n",
       "      <td>-195.599702</td>\n",
       "      <td>0</td>\n",
       "      <td>2</td>\n",
       "      <td>25</td>\n",
       "      <td>25</td>\n",
       "      <td>25</td>\n",
       "      <td>21</td>\n",
       "      <td>25</td>\n",
       "      <td>24</td>\n",
       "      <td>23</td>\n",
       "      <td>15</td>\n",
       "      <td>25</td>\n",
       "      <td>22</td>\n",
       "      <td>6</td>\n",
       "      <td>0</td>\n",
       "      <td>0</td>\n",
       "      <td>0</td>\n",
       "      <td>1.0</td>\n",
       "    </tr>\n",
       "    <tr>\n",
       "      <th>3</th>\n",
       "      <td>-0.118172</td>\n",
       "      <td>-0.587835</td>\n",
       "      <td>-0.804638</td>\n",
       "      <td>2.086822</td>\n",
       "      <td>0.371005</td>\n",
       "      <td>-0.128831</td>\n",
       "      <td>-0.282575</td>\n",
       "      <td>3</td>\n",
       "      <td>2</td>\n",
       "      <td>1</td>\n",
       "      <td>0</td>\n",
       "      <td>1</td>\n",
       "      <td>6</td>\n",
       "      <td>4</td>\n",
       "      <td>2</td>\n",
       "      <td>3</td>\n",
       "      <td>3</td>\n",
       "      <td>0</td>\n",
       "      <td>3</td>\n",
       "      <td>1.081084</td>\n",
       "      <td>-2.100177</td>\n",
       "      <td>-2.343819</td>\n",
       "      <td>0.572594</td>\n",
       "      <td>-1.653213</td>\n",
       "      <td>1.686035</td>\n",
       "      <td>-2.533098</td>\n",
       "      <td>-0.608601</td>\n",
       "      <td>210.826205</td>\n",
       "      <td>0</td>\n",
       "      <td>0</td>\n",
       "      <td>24</td>\n",
       "      <td>22</td>\n",
       "      <td>24</td>\n",
       "      <td>24</td>\n",
       "      <td>25</td>\n",
       "      <td>25</td>\n",
       "      <td>23</td>\n",
       "      <td>24</td>\n",
       "      <td>23</td>\n",
       "      <td>24</td>\n",
       "      <td>4</td>\n",
       "      <td>0</td>\n",
       "      <td>0</td>\n",
       "      <td>0</td>\n",
       "      <td>1.0</td>\n",
       "    </tr>\n",
       "    <tr>\n",
       "      <th>4</th>\n",
       "      <td>1.148481</td>\n",
       "      <td>-0.176567</td>\n",
       "      <td>-0.664871</td>\n",
       "      <td>-1.101343</td>\n",
       "      <td>0.467875</td>\n",
       "      <td>0.500117</td>\n",
       "      <td>0.407515</td>\n",
       "      <td>3</td>\n",
       "      <td>3</td>\n",
       "      <td>0</td>\n",
       "      <td>4</td>\n",
       "      <td>3</td>\n",
       "      <td>0</td>\n",
       "      <td>6</td>\n",
       "      <td>0</td>\n",
       "      <td>3</td>\n",
       "      <td>3</td>\n",
       "      <td>1</td>\n",
       "      <td>0</td>\n",
       "      <td>-0.126179</td>\n",
       "      <td>0.605033</td>\n",
       "      <td>1.133665</td>\n",
       "      <td>-3.912929</td>\n",
       "      <td>-1.430366</td>\n",
       "      <td>2.127649</td>\n",
       "      <td>-3.306784</td>\n",
       "      <td>4.371371</td>\n",
       "      <td>-217.211798</td>\n",
       "      <td>0</td>\n",
       "      <td>1</td>\n",
       "      <td>24</td>\n",
       "      <td>22</td>\n",
       "      <td>24</td>\n",
       "      <td>23</td>\n",
       "      <td>24</td>\n",
       "      <td>24</td>\n",
       "      <td>23</td>\n",
       "      <td>18</td>\n",
       "      <td>20</td>\n",
       "      <td>21</td>\n",
       "      <td>6</td>\n",
       "      <td>0</td>\n",
       "      <td>0</td>\n",
       "      <td>1</td>\n",
       "      <td>1.0</td>\n",
       "    </tr>\n",
       "  </tbody>\n",
       "</table>\n",
       "</div>"
      ],
      "text/plain": [
       "        f_00      f_01      f_02  ...  f_05_f_22_sum_hist  f_00_01_26  target\n",
       "id                                ...                                        \n",
       "0  -1.373246  0.238887 -0.243376  ...                   0           0     0.0\n",
       "1   1.697021 -1.710322 -2.230332  ...                   0           0     1.0\n",
       "2   1.681726  0.616746 -1.027689  ...                   0           0     1.0\n",
       "3  -0.118172 -0.587835 -0.804638  ...                   0           0     1.0\n",
       "4   1.148481 -0.176567 -0.664871  ...                   0           1     1.0\n",
       "\n",
       "[5 rows x 45 columns]"
      ]
     },
     "execution_count": 9,
     "metadata": {},
     "output_type": "execute_result"
    }
   ],
   "source": [
    "print(df.shape)\n",
    "df.head()"
   ]
  },
  {
   "cell_type": "code",
   "execution_count": 10,
   "metadata": {},
   "outputs": [
    {
     "name": "stdout",
     "output_type": "stream",
     "text": [
      "(900000, 45)\n",
      "(700000, 44)\n"
     ]
    }
   ],
   "source": [
    "train_df=df.loc[pd.isna(df['target'])==False,:]\n",
    "train_df['target']=train_df['target'].astype(int)\n",
    "test_df=df.loc[pd.isna(df['target'])==True,:].iloc[:,:-1]\n",
    "print(train_df.shape)\n",
    "print(test_df.shape)"
   ]
  },
  {
   "cell_type": "markdown",
   "metadata": {
    "tags": []
   },
   "source": [
    "## Data crossvalidation"
   ]
  },
  {
   "cell_type": "code",
   "execution_count": 11,
   "metadata": {},
   "outputs": [
    {
     "name": "stdout",
     "output_type": "stream",
     "text": [
      "Fold: 0, X_train (810000, 44), X_val (90000, 44)\n",
      "Fold: 1, X_train (810000, 44), X_val (90000, 44)\n",
      "Fold: 2, X_train (810000, 44), X_val (90000, 44)\n",
      "Fold: 3, X_train (810000, 44), X_val (90000, 44)\n",
      "Fold: 4, X_train (810000, 44), X_val (90000, 44)\n",
      "Fold: 5, X_train (810000, 44), X_val (90000, 44)\n",
      "Fold: 6, X_train (810000, 44), X_val (90000, 44)\n",
      "Fold: 7, X_train (810000, 44), X_val (90000, 44)\n",
      "Fold: 8, X_train (810000, 44), X_val (90000, 44)\n",
      "Fold: 9, X_train (810000, 44), X_val (90000, 44)\n"
     ]
    }
   ],
   "source": [
    "NUM_SPLITS=10\n",
    "skf = StratifiedKFold(n_splits=NUM_SPLITS)\n",
    "folds = dict()\n",
    "folds_results = dict()\n",
    "\n",
    "\n",
    "idx = 0\n",
    "train_data=train_df.iloc[:,:-1]\n",
    "train_labels=train_df.iloc[:,-1]\n",
    "\n",
    "for split in skf.split(train_data, train_labels ):\n",
    "    folds[idx] = {'X_train': train_data.iloc[split[0],:], \n",
    "                  'y_train':  train_labels.iloc[split[0]], \n",
    "                  'X_val': train_data.iloc[split[1],:], \n",
    "                  'y_val':  train_labels.iloc[split[1]]\n",
    "                  }\n",
    "    print(f\"Fold: {idx}, X_train {folds[idx]['X_train'].shape}, X_val {folds[idx]['X_val'].shape}\")\n",
    "    idx+=1"
   ]
  },
  {
   "cell_type": "code",
   "execution_count": 12,
   "metadata": {},
   "outputs": [],
   "source": [
    "# store folds for future use with various models\n",
    "\n",
    "# with open('crossvalidated_10_folds.pkl', \"wb\") as f:\n",
    "#     pickle.dump(folds, f)"
   ]
  },
  {
   "cell_type": "code",
   "execution_count": 13,
   "metadata": {},
   "outputs": [],
   "source": [
    "# use the same splitting as for TabNet\n",
    "# with open('crossvalidated_10_folds.pkl', \"rb\") as f:\n",
    "#     folds = pickle.load(f)"
   ]
  },
  {
   "cell_type": "markdown",
   "metadata": {
    "tags": []
   },
   "source": [
    "# XGBoost prediction\n"
   ]
  },
  {
   "cell_type": "markdown",
   "metadata": {},
   "source": [
    "## Params definition"
   ]
  },
  {
   "cell_type": "code",
   "execution_count": 22,
   "metadata": {},
   "outputs": [],
   "source": [
    "# The parameters were determined using 80 iterations of simulated anneal, non-crossvalidated, preserving only data proportion\n",
    "\n",
    "params = {\n",
    "  \"n_estimators\": 5000,\n",
    "  \"booster\": \"gbtree\",\n",
    "  \"tree_method\": \"gpu_hist\",\n",
    "  \"early_stopping_rounds\": 10,\n",
    "  \"learning_rate\": 0.12,\n",
    "  \"max_depth\": 8,\n",
    "  \"min_child_weight\": 0.974,\n",
    "  \"reg_lambda\": 1.5190000000000001,\n",
    "  \"reg_alpha\": 1.77,\n",
    "  \"max_bin\": 432\n",
    "}"
   ]
  },
  {
   "cell_type": "markdown",
   "metadata": {},
   "source": [
    "## CV folds training"
   ]
  },
  {
   "cell_type": "code",
   "execution_count": 27,
   "metadata": {
    "tags": []
   },
   "outputs": [],
   "source": [
    "# to use results for stacking or blending\n",
    "# define placeholders for validation data predictions and test data predictions\n",
    "folds_results = dict()\n",
    "test_predictions=dict()\n",
    "folds_scores={}"
   ]
  },
  {
   "cell_type": "markdown",
   "metadata": {},
   "source": [
    "### Training loop"
   ]
  },
  {
   "cell_type": "code",
   "execution_count": 33,
   "metadata": {
    "tags": []
   },
   "outputs": [
    {
     "name": "stdout",
     "output_type": "stream",
     "text": [
      "Starting fold 0\n",
      "Starting attempt 0 in fold 0\n",
      "Final fold-attempt result: 0.996161\n",
      "\n",
      "\n",
      "Performed fold 0 attempt 0\n",
      "Starting fold 1\n",
      "Starting attempt 0 in fold 1\n",
      "Final fold-attempt result: 0.996043\n",
      "\n",
      "\n",
      "Performed fold 1 attempt 0\n",
      "Starting fold 2\n",
      "Starting attempt 0 in fold 2\n",
      "Final fold-attempt result: 0.996447\n",
      "\n",
      "\n",
      "Performed fold 2 attempt 0\n",
      "Starting fold 3\n",
      "Starting attempt 0 in fold 3\n",
      "Final fold-attempt result: 0.996264\n",
      "\n",
      "\n",
      "Performed fold 3 attempt 0\n",
      "Starting fold 4\n",
      "Starting attempt 0 in fold 4\n",
      "Final fold-attempt result: 0.996397\n",
      "\n",
      "\n",
      "Performed fold 4 attempt 0\n",
      "Starting fold 5\n",
      "Starting attempt 0 in fold 5\n",
      "Final fold-attempt result: 0.996391\n",
      "\n",
      "\n",
      "Performed fold 5 attempt 0\n",
      "Starting fold 6\n",
      "Starting attempt 0 in fold 6\n",
      "Final fold-attempt result: 0.996557\n",
      "\n",
      "\n",
      "Performed fold 6 attempt 0\n",
      "Starting fold 7\n",
      "Starting attempt 0 in fold 7\n",
      "Final fold-attempt result: 0.996084\n",
      "\n",
      "\n",
      "Performed fold 7 attempt 0\n",
      "Starting fold 8\n",
      "Starting attempt 0 in fold 8\n",
      "Final fold-attempt result: 0.996404\n",
      "\n",
      "\n",
      "Performed fold 8 attempt 0\n",
      "Starting fold 9\n",
      "Starting attempt 0 in fold 9\n",
      "Final fold-attempt result: 0.995878\n",
      "\n",
      "\n",
      "Performed fold 9 attempt 0\n",
      "Performed in 0:02:14.781334\n"
     ]
    }
   ],
   "source": [
    "start = dt.datetime.now()\n",
    "N_ATTEMPTS_PER_FOLD=1 # the results are repeatable, so multiple attempts for XGB do not make sense\n",
    "\n",
    "# level 0 loop for folds\n",
    "for idx in folds.keys():\n",
    "    print(f\"Starting fold {idx}\")\n",
    "    ss = StandardScaler()\n",
    "    X_train_fold_scaled = pd.DataFrame(ss.fit_transform(folds[idx]['X_train']), \n",
    "                                       index=folds[idx]['X_train'].index, \n",
    "                                       columns=folds[idx]['X_train'].columns)\n",
    "    X_val_fold_scaled = pd.DataFrame(ss.transform(folds[idx]['X_val']), \n",
    "                                     index=folds[idx]['X_val'].index, \n",
    "                                     columns=folds[idx]['X_val'].columns)\n",
    "    \n",
    "    # nested loop for attempts within each fold\n",
    "    # each attempt operates on the same data\n",
    "    for attempt in range(N_ATTEMPTS_PER_FOLD):\n",
    "        print(f\"Starting attempt {attempt} in fold {idx}\")\n",
    "        CHECKPOINTS_PATH=f\"xgb_checkpoints/{idx}_{attempt}/\"\n",
    "        tf.keras.backend.clear_session()\n",
    "   \n",
    "        model_xgb= XGBClassifier(\n",
    "            n_estimators=params['n_estimators'],\n",
    "            learning_rate=params['learning_rate'],\n",
    "            max_depth=params['max_depth'],\n",
    "            min_child_weight = params['min_child_weight'],\n",
    "            reg_lambda = params['reg_lambda'],\n",
    "            reg_alpha = params['reg_alpha'],\n",
    "            max_bin = params['max_bin'],\n",
    "            booster=params['booster'],\n",
    "            eval_metric=['auc'],\n",
    "            early_stopping_rounds=params['early_stopping_rounds'],\n",
    "            tree_method=params['tree_method'],\n",
    "        )\n",
    "\n",
    "        model_xgb.fit(X_train_fold_scaled, folds[idx]['y_train'], \n",
    "                      eval_set=[(X_val_fold_scaled,  folds[idx]['y_val'])], \n",
    "                      verbose=False)\n",
    "        if not os.path.isdir(CHECKPOINTS_PATH):\n",
    "            os.mkdir(CHECKPOINTS_PATH)\n",
    "        model_xgb.save_model(CHECKPOINTS_PATH+\"xgb_model.pkl\")\n",
    "        # load the best weights\n",
    "        \n",
    "        folds_results[((idx, attempt), 'XGBpolecenieererer')]= model_xgb.predict_proba(X_val_fold_scaled.values)[:,1]\n",
    "        fold_auc = roc_auc_score(folds[(idx)]['y_val'], folds_results[((idx, attempt), 'TabNet')])\n",
    "        folds_scores[(idx, attempt)]=fold_auc\n",
    "        print(f\"Final fold-attempt result: {fold_auc:.6f}\\n\\n\")\n",
    "    print(\"Performed fold {} attempt {}\".format(idx, attempt))\n",
    "print(f\"Performed in {dt.datetime.now()-start}\")"
   ]
  },
  {
   "cell_type": "code",
   "execution_count": 34,
   "metadata": {},
   "outputs": [],
   "source": [
    "xgb_res__={\n",
    "    \"folds_scores\": folds_scores,\n",
    "    \"folds\": folds,\n",
    "    \"folds_val_predictions\": folds_results,\n",
    "}\n",
    "with open(\"XGBResults.pkl\", \"wb\") as f:\n",
    "    pickle.dump(xgb_res__,f)"
   ]
  },
  {
   "cell_type": "code",
   "execution_count": 35,
   "metadata": {},
   "outputs": [
    {
     "data": {
      "image/png": "[encoded data removed]",
      "text/plain": [
       "<Figure size 720x432 with 1 Axes>"
      ]
     },
     "metadata": {
      "needs_background": "light"
     },
     "output_type": "display_data"
    }
   ],
   "source": [
    "score_df=pd.DataFrame.from_dict(folds_scores, orient='index', columns=['val_AUC'])\n",
    "score_df=score_df.reset_index()\n",
    "score_df['fold']=score_df['attempt']=np.NaN\n",
    "score_df['fold']=score_df['index'].apply(lambda x: x[0])\n",
    "score_df['attempt']=score_df['index'].apply(lambda x: x[1])\n",
    "score_df.sort_values(by=['fold','attempt']).reset_index()\n",
    "score_df=score_df[['fold','attempt','val_AUC']]\n",
    "fig,ax=plt.subplots(1,1,figsize=(10,6))\n",
    "sns.lineplot(data=score_df, x='fold', y='val_AUC',  ax=ax, err_style='bars')\n",
    "score_df_best = score_df.loc[score_df.groupby('fold')['val_AUC'].idxmax()]\n",
    "sns.pointplot(data=score_df_best, x='fold', y='val_AUC', hue='attempt', linestyles='', ax=ax)\n",
    "for idx, fold, val in list(score_df_best[['fold', 'val_AUC']].itertuples()):\n",
    "    ax.text(fold, val, f\"{val:.6f}\", horizontalalignment='center', verticalalignment='bottom')\n",
    "    \n",
    "ax.grid('both')\n",
    "ax.set_title('Validation AUC for folds');\n"
   ]
  },
  {
   "cell_type": "code",
   "execution_count": 39,
   "metadata": {},
   "outputs": [
    {
     "name": "stdout",
     "output_type": "stream",
     "text": [
      "xgb_checkpoints/0_0/\n",
      "xgb_checkpoints/1_0/\n",
      "xgb_checkpoints/2_0/\n",
      "xgb_checkpoints/3_0/\n",
      "xgb_checkpoints/4_0/\n",
      "xgb_checkpoints/5_0/\n",
      "xgb_checkpoints/6_0/\n",
      "xgb_checkpoints/7_0/\n",
      "xgb_checkpoints/8_0/\n",
      "xgb_checkpoints/9_0/\n"
     ]
    }
   ],
   "source": [
    "for fold, attempt, val in score_df_best.values:\n",
    "    CHECKPOINTS_PATH=f\"xgb_checkpoints/{int(fold)}_{int(attempt)}/\"\n",
    "    print(CHECKPOINTS_PATH)\n",
    "    model_xgb=XGBClassifier()\n",
    "    model_xgb.load_model(CHECKPOINTS_PATH+\"xgb_model.pkl\")\n",
    "    ss.fit(folds[fold]['X_train'])\n",
    "    x_val_fold_scaled=ss.transform(folds[fold]['X_val'])\n",
    "    folds_results[(fold, 'xgb')]= model_xgb.predict_proba(x_val_fold_scaled)[:,1]\n",
    "    test_df_=ss.transform(test_df)\n",
    "    test_predictions[fold]=model_xgb.predict_proba(test_df_)[:,1]"
   ]
  },
  {
   "cell_type": "code",
   "execution_count": 40,
   "metadata": {},
   "outputs": [
    {
     "data": {
      "text/plain": [
       "<AxesSubplot:>"
      ]
     },
     "execution_count": 40,
     "metadata": {},
     "output_type": "execute_result"
    },
    {
     "data": {
      "image/png": "[encoded data removed]",
      "text/plain": [
       "<Figure size 864x504 with 2 Axes>"
      ]
     },
     "metadata": {
      "needs_background": "light"
     },
     "output_type": "display_data"
    }
   ],
   "source": [
    "test_pred_df = pd.DataFrame(test_predictions)\n",
    "fig,ax=plt.subplots(1,1,figsize=(12,7))\n",
    "sns.heatmap(test_pred_df.corr(), annot=True, fmt=\".2%\")\n"
   ]
  },
  {
   "cell_type": "markdown",
   "metadata": {
    "tags": []
   },
   "source": [
    "## Mean prediction using all data"
   ]
  },
  {
   "cell_type": "code",
   "execution_count": 41,
   "metadata": {},
   "outputs": [],
   "source": [
    "with open(\"XGB_test_preds.pkl\", \"wb\") as f:\n",
    "    pickle.dump(test_predictions, f)"
   ]
  },
  {
   "cell_type": "code",
   "execution_count": 42,
   "metadata": {},
   "outputs": [],
   "source": [
    "res_=pd.DataFrame(test_pred_df.mean(axis=1),  columns=['target'])\n",
    "res_. index=test_df.index\n",
    "res_.to_csv(\"Finalsolution_data30_xgb.csv\")"
   ]
  },
  {
   "cell_type": "markdown",
   "metadata": {},
   "source": [
    "This submission scored 0.99660"
   ]
  },
  {
   "cell_type": "markdown",
   "metadata": {},
   "source": [
    "# CatBoost prediction"
   ]
  },
  {
   "cell_type": "markdown",
   "metadata": {},
   "source": [
    "## Params definition"
   ]
  },
  {
   "cell_type": "code",
   "execution_count": 51,
   "metadata": {},
   "outputs": [],
   "source": [
    "params = {\n",
    "  \"iterations\": 20000,\n",
    "  \"learning_rate\": 0.013717390733915782,\n",
    "  \"depth\": 11,\n",
    "  \"l2_leaf_reg\": 3.7920000000000003,\n",
    "  \"use_best_model\": True,\n",
    "  \"random_strength\": 0.9450000000000001,\n",
    "  \"eval_metric\": \"Logloss\",\n",
    "  \"bagging_temperature\": 0.406,\n",
    "  \"task_type\": \"GPU\",\n",
    "  \"early_stopping_rounds\": 10\n",
    "}"
   ]
  },
  {
   "cell_type": "markdown",
   "metadata": {},
   "source": [
    "## CV folds training"
   ]
  },
  {
   "cell_type": "code",
   "execution_count": 52,
   "metadata": {
    "tags": []
   },
   "outputs": [],
   "source": [
    "# to use results for stacking or blending\n",
    "# define placeholders for validation data predictions and test data predictions\n",
    "folds_results_cat = dict()\n",
    "test_predictions_cat=dict()\n",
    "val_predictions_cat=dict()\n",
    "folds_scores_cat={}"
   ]
  },
  {
   "cell_type": "markdown",
   "metadata": {},
   "source": [
    "### Training loop"
   ]
  },
  {
   "cell_type": "code",
   "execution_count": 53,
   "metadata": {
    "tags": []
   },
   "outputs": [
    {
     "name": "stdout",
     "output_type": "stream",
     "text": [
      "Starting fold 0\n",
      "Starting attempt 0 in fold 0\n",
      "Final fold-attempt result: 0.997142\n",
      "\n",
      "\n",
      "Performed fold 0 attempt 0\n",
      "Starting fold 1\n",
      "Starting attempt 0 in fold 1\n",
      "Final fold-attempt result: 0.997159\n",
      "\n",
      "\n",
      "Performed fold 1 attempt 0\n",
      "Starting fold 2\n",
      "Starting attempt 0 in fold 2\n",
      "Final fold-attempt result: 0.997254\n",
      "\n",
      "\n",
      "Performed fold 2 attempt 0\n",
      "Starting fold 3\n",
      "Starting attempt 0 in fold 3\n",
      "Final fold-attempt result: 0.997269\n",
      "\n",
      "\n",
      "Performed fold 3 attempt 0\n",
      "Starting fold 4\n",
      "Starting attempt 0 in fold 4\n",
      "Final fold-attempt result: 0.997171\n",
      "\n",
      "\n",
      "Performed fold 4 attempt 0\n",
      "Starting fold 5\n",
      "Starting attempt 0 in fold 5\n",
      "Final fold-attempt result: 0.997145\n",
      "\n",
      "\n",
      "Performed fold 5 attempt 0\n",
      "Starting fold 6\n",
      "Starting attempt 0 in fold 6\n",
      "Final fold-attempt result: 0.997373\n",
      "\n",
      "\n",
      "Performed fold 6 attempt 0\n",
      "Starting fold 7\n",
      "Starting attempt 0 in fold 7\n",
      "Final fold-attempt result: 0.997103\n",
      "\n",
      "\n",
      "Performed fold 7 attempt 0\n",
      "Starting fold 8\n",
      "Starting attempt 0 in fold 8\n",
      "Final fold-attempt result: 0.997264\n",
      "\n",
      "\n",
      "Performed fold 8 attempt 0\n",
      "Starting fold 9\n",
      "Starting attempt 0 in fold 9\n",
      "Final fold-attempt result: 0.997146\n",
      "\n",
      "\n",
      "Performed fold 9 attempt 0\n",
      "Performed in 0:38:20.400257\n"
     ]
    }
   ],
   "source": [
    "N_ATTEMPTS_PER_FOLD=1\n",
    "start=dt.datetime.now()\n",
    "# level 0 loop for folds\n",
    "for idx in folds.keys():\n",
    "    print(f\"Starting fold {idx}\")\n",
    "    ss = StandardScaler()\n",
    "    X_train_fold_scaled = pd.DataFrame(ss.fit_transform(folds[idx]['X_train']), \n",
    "                                       index=folds[idx]['X_train'].index, \n",
    "                                       columns=folds[idx]['X_train'].columns)\n",
    "    X_val_fold_scaled = pd.DataFrame(ss.transform(folds[idx]['X_val']), \n",
    "                                     index=folds[idx]['X_val'].index, \n",
    "                                     columns=folds[idx]['X_val'].columns)\n",
    "    \n",
    "    # nested loop for attempts within each fold\n",
    "    # each attempt operates on the same data\n",
    "    for attempt in range(N_ATTEMPTS_PER_FOLD):\n",
    "        print(f\"Starting attempt {attempt} in fold {idx}\")\n",
    "        CHECKPOINTS_PATH=f\"cat_checkpoints/{idx}_{attempt}/\"\n",
    "        tf.keras.backend.clear_session()\n",
    "   \n",
    "        model_cat = CatBoostClassifier(\n",
    "            iterations=params['iterations'],\n",
    "            learning_rate=params['learning_rate'],\n",
    "            depth= params['depth'],\n",
    "            l2_leaf_reg = params['l2_leaf_reg'],\n",
    "            random_strength = params['random_strength'],\n",
    "            bagging_temperature = params['bagging_temperature'],\n",
    "\n",
    "            eval_metric='Logloss',\n",
    "            early_stopping_rounds=params['early_stopping_rounds'],\n",
    "            task_type=params['task_type'],\n",
    "            use_best_model=True,\n",
    "        )\n",
    "\n",
    "\n",
    "        model_cat.fit(X_train_fold_scaled, folds[idx]['y_train'], \n",
    "                      eval_set=[(X_val_fold_scaled,  folds[idx]['y_val'])], \n",
    "                      verbose=False)\n",
    "        if not os.path.isdir(CHECKPOINTS_PATH):\n",
    "            os.mkdir(CHECKPOINTS_PATH)\n",
    "        model_cat.save_model(CHECKPOINTS_PATH+'cat_model')\n",
    "        \n",
    "        folds_results_cat[((idx, attempt), 'CatBoost')]= model_cat.predict_proba(X_val_fold_scaled.values)[:,1]\n",
    "        fold_auc = roc_auc_score(folds[(idx)]['y_val'], folds_results_cat[((idx, attempt), 'CatBoost')])\n",
    "        folds_scores_cat[(idx, attempt)]=fold_auc\n",
    "        print(f\"Final fold-attempt result: {fold_auc:.6f}\\n\\n\")\n",
    "    print(\"Performed fold {} attempt {}\".format(idx, attempt))\n",
    "print(f\"Performed in {dt.datetime.now()-start}\")"
   ]
  },
  {
   "cell_type": "code",
   "execution_count": 56,
   "metadata": {},
   "outputs": [],
   "source": [
    "cat_res__={\n",
    "    \"folds_scores\": folds_scores_cat,\n",
    "    \"folds\": folds,\n",
    "    \"folds_val_predictions\": folds_results_cat,\n",
    "}\n",
    "with open(\"CatBoostResults.pkl\", \"wb\") as f:\n",
    "    pickle.dump(cat_res__,f)"
   ]
  },
  {
   "cell_type": "code",
   "execution_count": 57,
   "metadata": {},
   "outputs": [
    {
     "data": {
      "image/png": "[encoded data removed]",
      "text/plain": [
       "<Figure size 720x432 with 1 Axes>"
      ]
     },
     "metadata": {
      "needs_background": "light"
     },
     "output_type": "display_data"
    }
   ],
   "source": [
    "score_df=pd.DataFrame.from_dict(folds_scores_cat, orient='index', columns=['val_AUC'])\n",
    "score_df=score_df.reset_index()\n",
    "score_df['fold']=score_df['attempt']=np.NaN\n",
    "score_df['fold']=score_df['index'].apply(lambda x: x[0])\n",
    "score_df['attempt']=score_df['index'].apply(lambda x: x[1])\n",
    "score_df.sort_values(by=['fold','attempt']).reset_index()\n",
    "score_df=score_df[['fold','attempt','val_AUC']]\n",
    "fig,ax=plt.subplots(1,1,figsize=(10,6))\n",
    "sns.lineplot(data=score_df, x='fold', y='val_AUC',  ax=ax, err_style='bars')\n",
    "score_df_best = score_df.loc[score_df.groupby('fold')['val_AUC'].idxmax()]\n",
    "sns.pointplot(data=score_df_best, x='fold', y='val_AUC', hue='attempt', linestyles='', ax=ax)\n",
    "for idx, fold, val in list(score_df_best[['fold', 'val_AUC']].itertuples()):\n",
    "    ax.text(fold, val, f\"{val:.6f}\", horizontalalignment='center', verticalalignment='bottom')\n",
    "    \n",
    "ax.grid('both')\n",
    "ax.set_title('Validation AUC for folds');\n"
   ]
  },
  {
   "cell_type": "code",
   "execution_count": 58,
   "metadata": {},
   "outputs": [
    {
     "name": "stdout",
     "output_type": "stream",
     "text": [
      "Mean AUC: 0.997202 +/- 0.000084\n"
     ]
    }
   ],
   "source": [
    "# some iterations here were performed in the other script\n",
    "# tyhe mean value is only for folds 0-6\n",
    "score_df=pd.DataFrame.from_dict(folds_scores_cat, orient='index')\n",
    "print(f'Mean AUC: {score_df.mean()[0]:.6f} +/- {score_df.std()[0]:.6f}')\n"
   ]
  },
  {
   "cell_type": "code",
   "execution_count": 59,
   "metadata": {
    "tags": []
   },
   "outputs": [
    {
     "name": "stderr",
     "output_type": "stream",
     "text": [
      "100%|███████████████████████████████████████████| 10/10 [00:14<00:00,  1.44s/it]\n"
     ]
    }
   ],
   "source": [
    "test_predictions=dict()\n",
    "for idx in tqdm(folds.keys()):\n",
    "    CHECKPOINTS_PATH=f\"cat_checkpoints/{idx}_{attempt}/\"\n",
    "    model_cat = CatBoostClassifier()\n",
    "    model_cat.load_model(CHECKPOINTS_PATH+\"cat_model\")\n",
    "    ss.fit(folds[idx]['X_train'])\n",
    "    x_val_fold_scaled=ss.transform(folds[idx]['X_val'])\n",
    "    folds_results_cat[((idx, 0), 'CatBoost')]= model_cat.predict_proba(x_val_fold_scaled)[:,1]\n",
    "    \n",
    "    test_df_=ss.transform(test_df)\n",
    "    test_predictions[idx]=model_cat.predict_proba(test_df_)[:,1]"
   ]
  },
  {
   "cell_type": "code",
   "execution_count": null,
   "metadata": {},
   "outputs": [],
   "source": [
    "test_pred_df = pd.DataFrame(test_predictions)\n",
    "fig,ax=plt.subplots(1,1,figsize=(12,7))\n",
    "sns.heatmap(test_pred_df.corr(), annot=True, fmt=\".2%\")\n"
   ]
  },
  {
   "cell_type": "markdown",
   "metadata": {
    "tags": []
   },
   "source": [
    "## Mean prediction using all data"
   ]
  },
  {
   "cell_type": "code",
   "execution_count": 28,
   "metadata": {},
   "outputs": [],
   "source": [
    "with open(\"CatBoost_test_preds_1.pkl\", \"wb\") as f:\n",
    "    pickle.dump(test_predictions, f)"
   ]
  },
  {
   "cell_type": "code",
   "execution_count": 29,
   "metadata": {},
   "outputs": [],
   "source": [
    "res_=pd.DataFrame(test_pred_df.mean(axis=1),  columns=['target'])\n",
    "res_. index=test_df.index\n",
    "res_.to_csv(\"Finalsolution_data30_CatBoost_1.csv\")"
   ]
  },
  {
   "cell_type": "markdown",
   "metadata": {},
   "source": [
    "The result obtained is 0.99725 (Public)"
   ]
  },
  {
   "cell_type": "markdown",
   "metadata": {},
   "source": [
    "# LGBM prediction"
   ]
  },
  {
   "cell_type": "markdown",
   "metadata": {},
   "source": [
    "## Params definition"
   ]
  },
  {
   "cell_type": "code",
   "execution_count": 60,
   "metadata": {},
   "outputs": [],
   "source": [
    "params = {\n",
    "  \"n_estimators\": 10000,\n",
    "  \"boosting_type\": \"gbdt\",\n",
    "  \"verbose\": False,\n",
    "  \"learning_rate\": 0.1,\n",
    "  \"early_stopping_round\": 10,\n",
    "  \"subsample_for_bin\": 190000,\n",
    "  \"num_leaves\": 38,\n",
    "  \"reg_alpha\": 0.365,\n",
    "  \"reg_lambda\": 0.361,\n",
    "  \"min_child_samples\": 18,\n",
    "  \"min_child_weight\": 0.004200000000000001\n",
    "}"
   ]
  },
  {
   "cell_type": "markdown",
   "metadata": {},
   "source": [
    "## CV folds training"
   ]
  },
  {
   "cell_type": "code",
   "execution_count": 61,
   "metadata": {
    "tags": []
   },
   "outputs": [],
   "source": [
    "# to use results for stacking or blending\n",
    "# define placeholders for validation data predictions and test data predictions\n",
    "folds_results_lgbm = dict()\n",
    "test_predictions_lgbm=dict()\n",
    "val_predictions_lgbm=dict()\n",
    "folds_scores_lgbm={}"
   ]
  },
  {
   "cell_type": "markdown",
   "metadata": {},
   "source": [
    "### Training loop"
   ]
  },
  {
   "cell_type": "code",
   "execution_count": 62,
   "metadata": {
    "tags": []
   },
   "outputs": [
    {
     "name": "stdout",
     "output_type": "stream",
     "text": [
      "Starting fold 0\n",
      "Starting attempt 0 in fold 0\n",
      "Final fold-attempt result: 0.996442\n",
      "\n",
      "\n",
      "Performed fold 0 attempt 0\n",
      "Starting fold 1\n",
      "Starting attempt 0 in fold 1\n",
      "Final fold-attempt result: 0.996546\n",
      "\n",
      "\n",
      "Performed fold 1 attempt 0\n",
      "Starting fold 2\n",
      "Starting attempt 0 in fold 2\n",
      "Final fold-attempt result: 0.996423\n",
      "\n",
      "\n",
      "Performed fold 2 attempt 0\n",
      "Starting fold 3\n",
      "Starting attempt 0 in fold 3\n",
      "Final fold-attempt result: 0.996529\n",
      "\n",
      "\n",
      "Performed fold 3 attempt 0\n",
      "Starting fold 4\n",
      "Starting attempt 0 in fold 4\n",
      "Final fold-attempt result: 0.996546\n",
      "\n",
      "\n",
      "Performed fold 4 attempt 0\n",
      "Starting fold 5\n",
      "Starting attempt 0 in fold 5\n",
      "Final fold-attempt result: 0.996604\n",
      "\n",
      "\n",
      "Performed fold 5 attempt 0\n",
      "Starting fold 6\n",
      "Starting attempt 0 in fold 6\n",
      "Final fold-attempt result: 0.996671\n",
      "\n",
      "\n",
      "Performed fold 6 attempt 0\n",
      "Starting fold 7\n",
      "Starting attempt 0 in fold 7\n",
      "Final fold-attempt result: 0.996403\n",
      "\n",
      "\n",
      "Performed fold 7 attempt 0\n",
      "Starting fold 8\n",
      "Starting attempt 0 in fold 8\n",
      "Final fold-attempt result: 0.996590\n",
      "\n",
      "\n",
      "Performed fold 8 attempt 0\n",
      "Starting fold 9\n",
      "Starting attempt 0 in fold 9\n",
      "Final fold-attempt result: 0.996298\n",
      "\n",
      "\n",
      "Performed fold 9 attempt 0\n",
      "Performed in 0:03:19.021213\n"
     ]
    }
   ],
   "source": [
    "N_ATTEMPTS_PER_FOLD=1\n",
    "start=dt.datetime.now()\n",
    "# level 0 loop for folds\n",
    "for idx in folds.keys():\n",
    "    print(f\"Starting fold {idx}\")\n",
    "    ss = StandardScaler()\n",
    "    X_train_fold_scaled = pd.DataFrame(ss.fit_transform(folds[idx]['X_train']), \n",
    "                                       index=folds[idx]['X_train'].index, \n",
    "                                       columns=folds[idx]['X_train'].columns)\n",
    "    X_val_fold_scaled = pd.DataFrame(ss.transform(folds[idx]['X_val']), \n",
    "                                     index=folds[idx]['X_val'].index, \n",
    "                                     columns=folds[idx]['X_val'].columns)\n",
    "    \n",
    "    # nested loop for attempts within each fold\n",
    "    # each attempt operates on the same data\n",
    "    for attempt in range(N_ATTEMPTS_PER_FOLD):\n",
    "        print(f\"Starting attempt {attempt} in fold {idx}\")\n",
    "        CHECKPOINTS_PATH=f\"lgbm_checkpoints/{idx}_{attempt}/\"\n",
    "  \n",
    "        model_lgbm = LGBMClassifier(n_estimators=params['n_estimators'],\n",
    "                               num_leaves=params['num_leaves'],\n",
    "                               learning_rate=params['learning_rate'],\n",
    "                               boosting_type = params['boosting_type'],\n",
    "                               subsample_for_bin = params['subsample_for_bin'],\n",
    "                               early_stopping_round=params['early_stopping_round'],\n",
    "                               min_child_samples=params['min_child_samples'],\n",
    "                               min_child_weight=params[\"min_child_weight\"],\n",
    "                               reg_alpha=params[\"reg_alpha\"],\n",
    "                               reg_lambda=params['reg_lambda'],\n",
    "                               n_jobs=31)\n",
    "\n",
    "\n",
    "        model_lgbm.fit(X_train_fold_scaled, folds[idx]['y_train'], \n",
    "                      eval_set=[(X_val_fold_scaled,  folds[idx]['y_val'])], \n",
    "                      verbose=False)\n",
    "        if not os.path.isdir(CHECKPOINTS_PATH):\n",
    "            os.mkdir(CHECKPOINTS_PATH)\n",
    "        with open(CHECKPOINTS_PATH+'lgbm_model.pkl', \"wb\") as f:\n",
    "            pickle.dump(model_lgbm, f)\n",
    "            \n",
    "        folds_results_lgbm[((idx, attempt), 'LGBM')]= model_lgbm.predict_proba(X_val_fold_scaled.values)[:,1]\n",
    "        fold_auc = roc_auc_score(folds[(idx)]['y_val'], folds_results_lgbm[((idx, attempt), 'LGBM')])\n",
    "        folds_scores_lgbm[(idx, attempt)]=fold_auc\n",
    "        print(f\"Final fold-attempt result: {fold_auc:.6f}\\n\\n\")\n",
    "    print(\"Performed fold {} attempt {}\".format(idx, attempt))\n",
    "print(f\"Performed in {dt.datetime.now()-start}\")"
   ]
  },
  {
   "cell_type": "code",
   "execution_count": 63,
   "metadata": {},
   "outputs": [],
   "source": [
    "lgbm_res__={\n",
    "    \"folds_scores\": folds_scores_lgbm,\n",
    "    \"folds\": folds,\n",
    "    \"folds_val_predictions\": folds_results_lgbm,\n",
    "}\n",
    "with open(\"LGBMResults.pkl\", \"wb\") as f:\n",
    "    pickle.dump(lgbm_res__,f)"
   ]
  },
  {
   "cell_type": "code",
   "execution_count": 64,
   "metadata": {},
   "outputs": [
    {
     "data": {
      "image/png": "[encoded data removed]",
      "text/plain": [
       "<Figure size 720x432 with 1 Axes>"
      ]
     },
     "metadata": {
      "needs_background": "light"
     },
     "output_type": "display_data"
    }
   ],
   "source": [
    "score_df=pd.DataFrame.from_dict(folds_scores_lgbm, orient='index', columns=['val_AUC'])\n",
    "score_df=score_df.reset_index()\n",
    "score_df['fold']=score_df['attempt']=np.NaN\n",
    "score_df['fold']=score_df['index'].apply(lambda x: x[0])\n",
    "score_df['attempt']=score_df['index'].apply(lambda x: x[1])\n",
    "score_df.sort_values(by=['fold','attempt']).reset_index()\n",
    "score_df=score_df[['fold','attempt','val_AUC']]\n",
    "fig,ax=plt.subplots(1,1,figsize=(10,6))\n",
    "sns.lineplot(data=score_df, x='fold', y='val_AUC',  ax=ax, err_style='bars')\n",
    "score_df_best = score_df.loc[score_df.groupby('fold')['val_AUC'].idxmax()]\n",
    "sns.pointplot(data=score_df_best, x='fold', y='val_AUC', hue='attempt', linestyles='', ax=ax)\n",
    "for idx, fold, val in list(score_df_best[['fold', 'val_AUC']].itertuples()):\n",
    "    ax.text(fold, val, f\"{val:.6f}\", horizontalalignment='center', verticalalignment='bottom')\n",
    "    \n",
    "ax.grid('both')\n",
    "ax.set_title('Validation AUC for folds');\n"
   ]
  },
  {
   "cell_type": "code",
   "execution_count": 65,
   "metadata": {},
   "outputs": [
    {
     "name": "stdout",
     "output_type": "stream",
     "text": [
      "Mean AUC: 0.996505 +/- 0.000112\n"
     ]
    }
   ],
   "source": [
    "# some iterations here were performed in the other script\n",
    "# tyhe mean value is only for folds 0-6\n",
    "score_df=pd.DataFrame.from_dict(folds_scores_lgbm, orient='index')\n",
    "print(f'Mean AUC: {score_df.mean()[0]:.6f} +/- {score_df.std()[0]:.6f}')\n"
   ]
  },
  {
   "cell_type": "code",
   "execution_count": 47,
   "metadata": {
    "tags": []
   },
   "outputs": [
    {
     "name": "stderr",
     "output_type": "stream",
     "text": [
      "100%|███████████████████████████████████████████| 10/10 [01:27<00:00,  8.75s/it]\n"
     ]
    }
   ],
   "source": [
    "test_predictions=dict()\n",
    "for idx in tqdm(folds.keys()):\n",
    "    CHECKPOINTS_PATH=f\"lgbm_checkpoints/{idx}_{attempt}/\"\n",
    "    with open(CHECKPOINTS_PATH+\"lgbm_model.pkl\", \"rb\") as f:\n",
    "        model_lgbm = pickle.load(f)\n",
    "    ss.fit(folds[idx]['X_train'])\n",
    "    x_val_fold_scaled=ss.transform(folds[idx]['X_val'])\n",
    "    folds_results_lgbm[((idx, 0), 'LGBM')]= model_lgbm.predict_proba(x_val_fold_scaled)[:,1]\n",
    "    \n",
    "    test_df_=ss.transform(test_df)\n",
    "    test_predictions[idx]=model_lgbm.predict_proba(test_df_)[:,1]"
   ]
  },
  {
   "cell_type": "code",
   "execution_count": 48,
   "metadata": {},
   "outputs": [
    {
     "data": {
      "text/plain": [
       "<AxesSubplot:>"
      ]
     },
     "execution_count": 48,
     "metadata": {},
     "output_type": "execute_result"
    },
    {
     "data": {
      "image/png": "[encoded data removed]",
      "text/plain": [
       "<Figure size 864x504 with 2 Axes>"
      ]
     },
     "metadata": {
      "needs_background": "light"
     },
     "output_type": "display_data"
    }
   ],
   "source": [
    "test_pred_df = pd.DataFrame(test_predictions)\n",
    "fig,ax=plt.subplots(1,1,figsize=(12,7))\n",
    "sns.heatmap(test_pred_df.corr(), annot=True, fmt=\".2%\")\n"
   ]
  },
  {
   "cell_type": "markdown",
   "metadata": {
    "tags": []
   },
   "source": [
    "## Mean prediction using all data"
   ]
  },
  {
   "cell_type": "code",
   "execution_count": 49,
   "metadata": {},
   "outputs": [],
   "source": [
    "with open(\"lgbm_test_preds_1.pkl\", \"wb\") as f:\n",
    "    pickle.dump(test_predictions, f)"
   ]
  },
  {
   "cell_type": "code",
   "execution_count": 50,
   "metadata": {},
   "outputs": [],
   "source": [
    "res_=pd.DataFrame(test_pred_df.mean(axis=1),  columns=['target'])\n",
    "res_. index=test_df.index\n",
    "res_.to_csv(\"Finalsolution_data30_LGBM_1.csv\")"
   ]
  },
  {
   "cell_type": "markdown",
   "metadata": {},
   "source": [
    "The result obtained is 0.99676 (Public)"
   ]
  },
  {
   "cell_type": "code",
   "execution_count": null,
   "metadata": {},
   "outputs": [],
   "source": []
  }
 ],
 "metadata": {
  "kernelspec": {
   "display_name": "kgtab202205",
   "language": "python",
   "name": "kgtab202205"
  },
  "language_info": {
   "codemirror_mode": {
    "name": "ipython",
    "version": 3
   },
   "file_extension": ".py",
   "mimetype": "text/x-python",
   "name": "python",
   "nbconvert_exporter": "python",
   "pygments_lexer": "ipython3",
   "version": "3.8.10"
  },
  "toc-autonumbering": true
 },
 "nbformat": 4,
 "nbformat_minor": 4
}
